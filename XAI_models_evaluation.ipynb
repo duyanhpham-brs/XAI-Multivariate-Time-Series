{
 "cells": [
  {
   "cell_type": "code",
   "execution_count": 1,
   "id": "cloudy-scoop",
   "metadata": {},
   "outputs": [],
   "source": [
    "import torch\n",
    "import torch.nn as nn\n",
    "import torch.nn.functional as F\n",
    "from torch.utils import data\n",
    "from torchvision.models import vgg19\n",
    "from torchvision import transforms\n",
    "from torchvision import datasets\n",
    "from torchsummary import summary\n",
    "from torchviz import make_dot\n",
    "import matplotlib.pyplot as plt\n",
    "import numpy as np\n",
    "import os\n",
    "from utils.training import train_model\n",
    "from utils.datasets import DatasetLoader\n",
    "from models.CAM_based_models import MTEXCNN, XCM\n",
    "from feature_extraction.CAM import GradCAM, GradCAMPlusPlus\n",
    "from utils.visualization import CAMFeatureMaps, map_activation_to_input"
   ]
  },
  {
   "cell_type": "markdown",
   "id": "sticky-ecology",
   "metadata": {},
   "source": [
    "# Load data"
   ]
  },
  {
   "cell_type": "code",
   "execution_count": 2,
   "id": "thermal-ballet",
   "metadata": {},
   "outputs": [],
   "source": [
    "# Load dataset\n",
    "\n",
    "dataset_path = './data/UWaveGestureLibrary'\n",
    "dataset = DatasetLoader(dataset_path)\n",
    "train_data, test_data = dataset.load_to_df()"
   ]
  },
  {
   "cell_type": "code",
   "execution_count": 3,
   "id": "common-surname",
   "metadata": {},
   "outputs": [],
   "source": [
    "X_train, y_train, X_test, y_test = dataset.load_to_nparray()"
   ]
  },
  {
   "cell_type": "code",
   "execution_count": 4,
   "id": "indie-night",
   "metadata": {
    "scrolled": false
   },
   "outputs": [
    {
     "data": {
      "text/plain": [
       "(120, 3, 315)"
      ]
     },
     "metadata": {},
     "output_type": "display_data"
    },
    {
     "data": {
      "text/plain": [
       "(120,)"
      ]
     },
     "metadata": {},
     "output_type": "display_data"
    },
    {
     "data": {
      "text/plain": [
       "(320, 3, 315)"
      ]
     },
     "metadata": {},
     "output_type": "display_data"
    },
    {
     "data": {
      "text/plain": [
       "(320,)"
      ]
     },
     "metadata": {},
     "output_type": "display_data"
    }
   ],
   "source": [
    "display(X_train.shape, y_train.shape, X_test.shape, y_test.shape)"
   ]
  },
  {
   "cell_type": "markdown",
   "id": "comprehensive-holly",
   "metadata": {},
   "source": [
    "## Create DataLoader"
   ]
  },
  {
   "cell_type": "code",
   "execution_count": 5,
   "id": "opposite-ancient",
   "metadata": {},
   "outputs": [],
   "source": [
    "dataloaders, datasets_size = dataset.get_torch_dataset_loader_auto(4, 4)"
   ]
  },
  {
   "cell_type": "markdown",
   "id": "sought-lesbian",
   "metadata": {},
   "source": [
    "# CAM-based models"
   ]
  },
  {
   "cell_type": "markdown",
   "id": "acquired-hazard",
   "metadata": {},
   "source": [
    "## MTEX-CNN"
   ]
  },
  {
   "cell_type": "code",
   "execution_count": 6,
   "id": "bibliographic-soundtrack",
   "metadata": {},
   "outputs": [
    {
     "data": {
      "text/plain": [
       "MTEXCNN(\n",
       "  (cnn_layers): Sequential(\n",
       "    (conv_1): Conv2d(1, 16, kernel_size=(158, 1), stride=(1, 1))\n",
       "    (relu_1): ReLU(inplace=True)\n",
       "    (conv_2): Conv2d(16, 32, kernel_size=(79, 1), stride=(1, 1))\n",
       "    (relu_2): ReLU(inplace=True)\n",
       "    (conv_3): Conv2d(32, 1, kernel_size=(1, 1), stride=(1, 1))\n",
       "    (relu_3): ReLU(inplace=True)\n",
       "    (view): View(3, 80)\n",
       "    (conv_4): Conv1d(3, 64, kernel_size=(3,), stride=(1,))\n",
       "    (relu_4): ReLU(inplace=True)\n",
       "  )\n",
       "  (linear_layers): Sequential(\n",
       "    (fc1): Linear(in_features=4992, out_features=32, bias=True)\n",
       "    (fc2): Linear(in_features=32, out_features=8, bias=True)\n",
       "  )\n",
       ")"
      ]
     },
     "execution_count": 6,
     "metadata": {},
     "output_type": "execute_result"
    }
   ],
   "source": [
    "net = MTEXCNN(X_train.shape[2], X_train.shape[1], len(np.unique(y_train)))\n",
    "net"
   ]
  },
  {
   "cell_type": "code",
   "execution_count": 7,
   "id": "adolescent-burning",
   "metadata": {
    "scrolled": true
   },
   "outputs": [
    {
     "name": "stdout",
     "output_type": "stream",
     "text": [
      "----------------------------------------------------------------\n",
      "        Layer (type)               Output Shape         Param #\n",
      "================================================================\n",
      "            Conv2d-1           [-1, 16, 158, 3]           2,544\n",
      "              ReLU-2           [-1, 16, 158, 3]               0\n",
      "            Conv2d-3            [-1, 32, 80, 3]          40,480\n",
      "              ReLU-4            [-1, 32, 80, 3]               0\n",
      "            Conv2d-5             [-1, 1, 80, 3]              33\n",
      "              ReLU-6             [-1, 1, 80, 3]               0\n",
      "              View-7                [-1, 3, 80]               0\n",
      "            Conv1d-8               [-1, 64, 78]             640\n",
      "              ReLU-9               [-1, 64, 78]               0\n",
      "           Linear-10                   [-1, 32]         159,776\n",
      "           Linear-11                    [-1, 8]             264\n",
      "================================================================\n",
      "Total params: 203,737\n",
      "Trainable params: 203,737\n",
      "Non-trainable params: 0\n",
      "----------------------------------------------------------------\n",
      "Input size (MB): 0.00\n",
      "Forward/backward pass size (MB): 0.31\n",
      "Params size (MB): 0.78\n",
      "Estimated Total Size (MB): 1.10\n",
      "----------------------------------------------------------------\n"
     ]
    }
   ],
   "source": [
    "summary(net, (1,315,3))"
   ]
  },
  {
   "cell_type": "markdown",
   "id": "interim-nirvana",
   "metadata": {},
   "source": [
    "## XCM"
   ]
  },
  {
   "cell_type": "code",
   "execution_count": 8,
   "id": "concerned-cradle",
   "metadata": {},
   "outputs": [
    {
     "data": {
      "text/plain": [
       "XCM(\n",
       "  (cnn_layers_1): Sequential(\n",
       "    (conv_11): Conv2d(1, 16, kernel_size=(63, 63), stride=(1, 1), padding=(31, 31))\n",
       "    (batchnorm_11): BatchNorm2d(16, eps=1e-05, momentum=0.1, affine=True, track_running_stats=True)\n",
       "    (relu_11): ReLU(inplace=True)\n",
       "    (conv_12): Conv2d(16, 1, kernel_size=(1, 1), stride=(1, 1))\n",
       "    (relu_12): ReLU(inplace=True)\n",
       "    (squeeze_12): Squeeze()\n",
       "    (swap_12): SwapLastDim()\n",
       "  )\n",
       "  (cnn_layers_2): Sequential(\n",
       "    (view_21): View(3, 315)\n",
       "    (conv_21): Conv1d(3, 16, kernel_size=(63,), stride=(1,), padding=(31,))\n",
       "    (batchnorm_21): BatchNorm1d(16, eps=1e-05, momentum=0.1, affine=True, track_running_stats=True)\n",
       "    (relu_21): ReLU(inplace=True)\n",
       "    (conv_22): Conv1d(16, 1, kernel_size=(1,), stride=(1,))\n",
       "    (relu_22): ReLU(inplace=True)\n",
       "  )\n",
       "  (cnn_layers_3): Sequential(\n",
       "    (swap_31): SwapLastDim()\n",
       "    (conv_31): Conv1d(315, 32, kernel_size=(63,), stride=(1,), padding=(31,))\n",
       "    (batchnorm_31): BatchNorm1d(32, eps=1e-05, momentum=0.1, affine=True, track_running_stats=True)\n",
       "    (relu_3): ReLU(inplace=True)\n",
       "  )\n",
       "  (avgpool_layer): Sequential(\n",
       "    (avgpool): AvgPool1d(kernel_size=(4,), stride=(4,), padding=(0,))\n",
       "  )\n",
       "  (linear_layers): Sequential(\n",
       "    (flatten): Flatten(start_dim=1, end_dim=-1)\n",
       "    (fc1): Linear(in_features=32, out_features=8, bias=True)\n",
       "    (softmax): Softmax(dim=1)\n",
       "  )\n",
       ")"
      ]
     },
     "execution_count": 8,
     "metadata": {},
     "output_type": "execute_result"
    }
   ],
   "source": [
    "window_size = int(0.2*X_train.shape[2])\n",
    "if window_size % 2 == 0:\n",
    "    window_size -= 1\n",
    "\n",
    "net1 = XCM(window_size, X_train.shape[2], X_train.shape[1], len(np.unique(y_train)))\n",
    "net1"
   ]
  },
  {
   "cell_type": "code",
   "execution_count": 9,
   "id": "blocked-consultancy",
   "metadata": {},
   "outputs": [
    {
     "name": "stdout",
     "output_type": "stream",
     "text": [
      "----------------------------------------------------------------\n",
      "        Layer (type)               Output Shape         Param #\n",
      "================================================================\n",
      "            Conv2d-1           [-1, 16, 315, 3]          63,520\n",
      "       BatchNorm2d-2           [-1, 16, 315, 3]              32\n",
      "              ReLU-3           [-1, 16, 315, 3]               0\n",
      "            Conv2d-4            [-1, 1, 315, 3]              17\n",
      "              ReLU-5            [-1, 1, 315, 3]               0\n",
      "           Squeeze-6               [-1, 315, 3]               0\n",
      "      SwapLastDims-7               [-1, 3, 315]               0\n",
      "              View-8               [-1, 3, 315]               0\n",
      "            Conv1d-9              [-1, 16, 315]           3,040\n",
      "      BatchNorm1d-10              [-1, 16, 315]              32\n",
      "             ReLU-11              [-1, 16, 315]               0\n",
      "           Conv1d-12               [-1, 1, 315]              17\n",
      "             ReLU-13               [-1, 1, 315]               0\n",
      "     SwapLastDims-14               [-1, 315, 4]               0\n",
      "           Conv1d-15                [-1, 32, 4]         635,072\n",
      "      BatchNorm1d-16                [-1, 32, 4]              64\n",
      "             ReLU-17                [-1, 32, 4]               0\n",
      "        AvgPool1d-18                [-1, 32, 1]               0\n",
      "          Flatten-19                   [-1, 32]               0\n",
      "           Linear-20                    [-1, 8]             264\n",
      "          Softmax-21                    [-1, 8]               0\n",
      "================================================================\n",
      "Total params: 702,058\n",
      "Trainable params: 702,058\n",
      "Non-trainable params: 0\n",
      "----------------------------------------------------------------\n",
      "Input size (MB): 0.00\n",
      "Forward/backward pass size (MB): 0.52\n",
      "Params size (MB): 2.68\n",
      "Estimated Total Size (MB): 3.20\n",
      "----------------------------------------------------------------\n"
     ]
    }
   ],
   "source": [
    "summary(net1, (1,315,3))"
   ]
  },
  {
   "cell_type": "markdown",
   "id": "provincial-package",
   "metadata": {},
   "source": [
    "# Training"
   ]
  },
  {
   "cell_type": "code",
   "execution_count": 10,
   "id": "tired-instrument",
   "metadata": {},
   "outputs": [],
   "source": [
    "# from torch_lr_finder import LRFinder\n",
    "\n",
    "# model = XCM(93, X_train.shape[2], X_train.shape[1], len(np.unique(y_train)))\n",
    "# criterion = nn.CrossEntropyLoss()\n",
    "# optimizer_ft = torch.optim.Adam(model.parameters(), lr=1e-6)\n",
    "\n",
    "# lr_finder = LRFinder(model.double(), optimizer_ft, criterion)\n",
    "# lr_finder.range_test(dataloaders['train'], val_loader=dataloaders['val'], end_lr=1e-3, num_iter=100, step_mode=\"exp\")\n",
    "# lr_finder.plot() # to inspect the loss-learning rate graph\n",
    "# lr_finder.reset() # to reset the model and optimizer to their initial state"
   ]
  },
  {
   "cell_type": "code",
   "execution_count": 11,
   "id": "interim-archives",
   "metadata": {},
   "outputs": [
    {
     "name": "stdout",
     "output_type": "stream",
     "text": [
      "Epoch 0/1\n",
      "----------\n",
      "train Loss: 2.0167 Acc: 0.3500 Correct: 42.0\n",
      "val Loss: 2.0305 Acc: 0.6375 Correct: 204.0\n"
     ]
    },
    {
     "data": {
      "image/png": "[encoded data removed]",
      "text/plain": [
       "<Figure size 432x288 with 1 Axes>"
      ]
     },
     "metadata": {
      "needs_background": "light"
     },
     "output_type": "display_data"
    },
    {
     "name": "stdout",
     "output_type": "stream",
     "text": [
      "Epoch 1/1\n",
      "----------\n",
      "train Loss: 1.9398 Acc: 0.5750 Correct: 69.0\n",
      "val Loss: 1.8542 Acc: 0.6219 Correct: 199.0\n"
     ]
    },
    {
     "data": {
      "image/png": "[encoded data removed]",
      "text/plain": [
       "<Figure size 432x288 with 1 Axes>"
      ]
     },
     "metadata": {
      "needs_background": "light"
     },
     "output_type": "display_data"
    },
    {
     "name": "stdout",
     "output_type": "stream",
     "text": [
      "Training complete in 0m 57s\n",
      "Best val Acc: 0.637500\n"
     ]
    },
    {
     "data": {
      "text/plain": [
       "XCM(\n",
       "  (cnn_layers_1): Sequential(\n",
       "    (conv_11): Conv2d(1, 16, kernel_size=(63, 63), stride=(1, 1), padding=(31, 31))\n",
       "    (batchnorm_11): BatchNorm2d(16, eps=1e-05, momentum=0.1, affine=True, track_running_stats=True)\n",
       "    (relu_11): ReLU(inplace=True)\n",
       "    (conv_12): Conv2d(16, 1, kernel_size=(1, 1), stride=(1, 1))\n",
       "    (relu_12): ReLU(inplace=True)\n",
       "    (squeeze_12): Squeeze()\n",
       "    (swap_12): SwapLastDim()\n",
       "  )\n",
       "  (cnn_layers_2): Sequential(\n",
       "    (view_21): View(3, 315)\n",
       "    (conv_21): Conv1d(3, 16, kernel_size=(63,), stride=(1,), padding=(31,))\n",
       "    (batchnorm_21): BatchNorm1d(16, eps=1e-05, momentum=0.1, affine=True, track_running_stats=True)\n",
       "    (relu_21): ReLU(inplace=True)\n",
       "    (conv_22): Conv1d(16, 1, kernel_size=(1,), stride=(1,))\n",
       "    (relu_22): ReLU(inplace=True)\n",
       "  )\n",
       "  (cnn_layers_3): Sequential(\n",
       "    (swap_31): SwapLastDim()\n",
       "    (conv_31): Conv1d(315, 32, kernel_size=(63,), stride=(1,), padding=(31,))\n",
       "    (batchnorm_31): BatchNorm1d(32, eps=1e-05, momentum=0.1, affine=True, track_running_stats=True)\n",
       "    (relu_3): ReLU(inplace=True)\n",
       "  )\n",
       "  (avgpool_layer): Sequential(\n",
       "    (avgpool): AvgPool1d(kernel_size=(4,), stride=(4,), padding=(0,))\n",
       "  )\n",
       "  (linear_layers): Sequential(\n",
       "    (flatten): Flatten(start_dim=1, end_dim=-1)\n",
       "    (fc1): Linear(in_features=32, out_features=8, bias=True)\n",
       "    (softmax): Softmax(dim=1)\n",
       "  )\n",
       ")"
      ]
     },
     "execution_count": 11,
     "metadata": {},
     "output_type": "execute_result"
    }
   ],
   "source": [
    "# model = XCM(93, X_train.shape[2], X_train.shape[1], len(np.unique(y_train)))\n",
    "model = net1\n",
    "criterion = nn.CrossEntropyLoss()\n",
    "# optimizer_ft = torch.optim.Adam(model.parameters(), lr=4.5e-4)\n",
    "optimizer_ft = torch.optim.Adam(model.parameters(), lr=1.5e-4)\n",
    "exp_lr_scheduler = torch.optim.lr_scheduler.StepLR(optimizer_ft, step_size=10, gamma=0.1)\n",
    "\n",
    "train_model(model, criterion, optimizer_ft, exp_lr_scheduler, dataloaders, datasets_size, 2)"
   ]
  },
  {
   "cell_type": "markdown",
   "id": "alert-tobago",
   "metadata": {},
   "source": [
    "## Feature Extraction"
   ]
  },
  {
   "cell_type": "code",
   "execution_count": 12,
   "id": "informational-christmas",
   "metadata": {},
   "outputs": [
    {
     "name": "stdout",
     "output_type": "stream",
     "text": [
      "Sequential(\n",
      "  (conv_11): Conv2d(1, 16, kernel_size=(63, 63), stride=(1, 1), padding=(31, 31))\n",
      "  (batchnorm_11): BatchNorm2d(16, eps=1e-05, momentum=0.1, affine=True, track_running_stats=True)\n",
      "  (relu_11): ReLU(inplace=True)\n",
      "  (conv_12): Conv2d(16, 1, kernel_size=(1, 1), stride=(1, 1))\n",
      "  (relu_12): ReLU(inplace=True)\n",
      "  (squeeze_12): Squeeze()\n",
      "  (swap_12): SwapLastDim()\n",
      ") Sequential(\n",
      "  (conv_11): Conv2d(1, 16, kernel_size=(63, 63), stride=(1, 1), padding=(31, 31))\n",
      "  (batchnorm_11): BatchNorm2d(16, eps=1e-05, momentum=0.1, affine=True, track_running_stats=True)\n",
      "  (relu_11): ReLU(inplace=True)\n",
      "  (conv_12): Conv2d(16, 1, kernel_size=(1, 1), stride=(1, 1))\n",
      "  (relu_12): ReLU(inplace=True)\n",
      "  (squeeze_12): Squeeze()\n",
      "  (swap_12): SwapLastDim()\n",
      ")\n",
      "Sequential(\n",
      "  (view_21): View(3, 315)\n",
      "  (conv_21): Conv1d(3, 16, kernel_size=(63,), stride=(1,), padding=(31,))\n",
      "  (batchnorm_21): BatchNorm1d(16, eps=1e-05, momentum=0.1, affine=True, track_running_stats=True)\n",
      "  (relu_21): ReLU(inplace=True)\n",
      "  (conv_22): Conv1d(16, 1, kernel_size=(1,), stride=(1,))\n",
      "  (relu_22): ReLU(inplace=True)\n",
      ") Sequential(\n",
      "  (conv_11): Conv2d(1, 16, kernel_size=(63, 63), stride=(1, 1), padding=(31, 31))\n",
      "  (batchnorm_11): BatchNorm2d(16, eps=1e-05, momentum=0.1, affine=True, track_running_stats=True)\n",
      "  (relu_11): ReLU(inplace=True)\n",
      "  (conv_12): Conv2d(16, 1, kernel_size=(1, 1), stride=(1, 1))\n",
      "  (relu_12): ReLU(inplace=True)\n",
      "  (squeeze_12): Squeeze()\n",
      "  (swap_12): SwapLastDim()\n",
      ")\n",
      "torch.Size([1, 3, 315])\n",
      "Sequential(\n",
      "  (swap_31): SwapLastDim()\n",
      "  (conv_31): Conv1d(315, 32, kernel_size=(63,), stride=(1,), padding=(31,))\n",
      "  (batchnorm_31): BatchNorm1d(32, eps=1e-05, momentum=0.1, affine=True, track_running_stats=True)\n",
      "  (relu_3): ReLU(inplace=True)\n",
      ") Sequential(\n",
      "  (conv_11): Conv2d(1, 16, kernel_size=(63, 63), stride=(1, 1), padding=(31, 31))\n",
      "  (batchnorm_11): BatchNorm2d(16, eps=1e-05, momentum=0.1, affine=True, track_running_stats=True)\n",
      "  (relu_11): ReLU(inplace=True)\n",
      "  (conv_12): Conv2d(16, 1, kernel_size=(1, 1), stride=(1, 1))\n",
      "  (relu_12): ReLU(inplace=True)\n",
      "  (squeeze_12): Squeeze()\n",
      "  (swap_12): SwapLastDim()\n",
      ")\n",
      "torch.Size([1, 1, 315])\n",
      "Sequential(\n",
      "  (avgpool): AvgPool1d(kernel_size=(4,), stride=(4,), padding=(0,))\n",
      ") Sequential(\n",
      "  (conv_11): Conv2d(1, 16, kernel_size=(63, 63), stride=(1, 1), padding=(31, 31))\n",
      "  (batchnorm_11): BatchNorm2d(16, eps=1e-05, momentum=0.1, affine=True, track_running_stats=True)\n",
      "  (relu_11): ReLU(inplace=True)\n",
      "  (conv_12): Conv2d(16, 1, kernel_size=(1, 1), stride=(1, 1))\n",
      "  (relu_12): ReLU(inplace=True)\n",
      "  (squeeze_12): Squeeze()\n",
      "  (swap_12): SwapLastDim()\n",
      ")\n"
     ]
    },
    {
     "ename": "RuntimeError",
     "evalue": "Given input size: (32x1x1). Calculated output size: (32x1x0). Output size is too small",
     "output_type": "error",
     "traceback": [
      "\u001b[0;31m---------------------------------------------------------------------------\u001b[0m",
      "\u001b[0;31mRuntimeError\u001b[0m                              Traceback (most recent call last)",
      "\u001b[0;32m<ipython-input-12-7c7b52516e68>\u001b[0m in \u001b[0;36m<module>\u001b[0;34m\u001b[0m\n\u001b[1;32m      3\u001b[0m \u001b[0mmask\u001b[0m \u001b[0;34m=\u001b[0m \u001b[0;34m{\u001b[0m\u001b[0;34m}\u001b[0m\u001b[0;34m\u001b[0m\u001b[0;34m\u001b[0m\u001b[0m\n\u001b[1;32m      4\u001b[0m \u001b[0;32mfor\u001b[0m \u001b[0mi\u001b[0m \u001b[0;32min\u001b[0m \u001b[0mrange\u001b[0m\u001b[0;34m(\u001b[0m\u001b[0mlen\u001b[0m\u001b[0;34m(\u001b[0m\u001b[0mnp\u001b[0m\u001b[0;34m.\u001b[0m\u001b[0munique\u001b[0m\u001b[0;34m(\u001b[0m\u001b[0my_test\u001b[0m\u001b[0;34m)\u001b[0m\u001b[0;34m)\u001b[0m\u001b[0;34m)\u001b[0m\u001b[0;34m:\u001b[0m\u001b[0;34m\u001b[0m\u001b[0;34m\u001b[0m\u001b[0m\n\u001b[0;32m----> 5\u001b[0;31m     \u001b[0mmask\u001b[0m\u001b[0;34m[\u001b[0m\u001b[0mi\u001b[0m\u001b[0;34m]\u001b[0m \u001b[0;34m=\u001b[0m \u001b[0mfeature_maps\u001b[0m\u001b[0;34m.\u001b[0m\u001b[0mshow\u001b[0m\u001b[0;34m(\u001b[0m\u001b[0mX_test\u001b[0m\u001b[0;34m[\u001b[0m\u001b[0;36m0\u001b[0m\u001b[0;34m]\u001b[0m\u001b[0;34m,\u001b[0m \u001b[0mi\u001b[0m\u001b[0;34m)\u001b[0m\u001b[0;34m\u001b[0m\u001b[0;34m\u001b[0m\u001b[0m\n\u001b[0m",
      "\u001b[0;32m~/Documents/XAI-Multivariate-Time-Series/utils/visualization.py\u001b[0m in \u001b[0;36mshow\u001b[0;34m(self, data, index, upsampling)\u001b[0m\n\u001b[1;32m     17\u001b[0m         \u001b[0mX_inp\u001b[0m\u001b[0;34m.\u001b[0m\u001b[0munsqueeze_\u001b[0m\u001b[0;34m(\u001b[0m\u001b[0;36m0\u001b[0m\u001b[0;34m)\u001b[0m\u001b[0;34m\u001b[0m\u001b[0;34m\u001b[0m\u001b[0m\n\u001b[1;32m     18\u001b[0m         \u001b[0mX_inp\u001b[0m \u001b[0;34m=\u001b[0m \u001b[0mX_inp\u001b[0m\u001b[0;34m.\u001b[0m\u001b[0mfloat\u001b[0m\u001b[0;34m(\u001b[0m\u001b[0;34m)\u001b[0m\u001b[0;34m.\u001b[0m\u001b[0mrequires_grad_\u001b[0m\u001b[0;34m(\u001b[0m\u001b[0;32mTrue\u001b[0m\u001b[0;34m)\u001b[0m\u001b[0;34m\u001b[0m\u001b[0;34m\u001b[0m\u001b[0m\n\u001b[0;32m---> 19\u001b[0;31m         \u001b[0mmask\u001b[0m \u001b[0;34m=\u001b[0m \u001b[0mself\u001b[0m\u001b[0;34m.\u001b[0m\u001b[0mcam\u001b[0m\u001b[0;34m(\u001b[0m\u001b[0mX_inp\u001b[0m\u001b[0;34m,\u001b[0m \u001b[0mtarget_index\u001b[0m\u001b[0;34m)\u001b[0m\u001b[0;34m\u001b[0m\u001b[0;34m\u001b[0m\u001b[0m\n\u001b[0m\u001b[1;32m     20\u001b[0m         \u001b[0;32mif\u001b[0m \u001b[0mlen\u001b[0m\u001b[0;34m(\u001b[0m\u001b[0mmask\u001b[0m\u001b[0;34m.\u001b[0m\u001b[0mshape\u001b[0m\u001b[0;34m)\u001b[0m\u001b[0;34m==\u001b[0m\u001b[0;36m2\u001b[0m\u001b[0;34m:\u001b[0m\u001b[0;34m\u001b[0m\u001b[0;34m\u001b[0m\u001b[0m\n\u001b[1;32m     21\u001b[0m             \u001b[0mplt\u001b[0m\u001b[0;34m.\u001b[0m\u001b[0mfigure\u001b[0m\u001b[0;34m(\u001b[0m\u001b[0mfigsize\u001b[0m\u001b[0;34m=\u001b[0m\u001b[0;34m(\u001b[0m\u001b[0;36m200\u001b[0m\u001b[0;34m,\u001b[0m\u001b[0;36m60\u001b[0m\u001b[0;34m)\u001b[0m\u001b[0;34m)\u001b[0m\u001b[0;34m\u001b[0m\u001b[0;34m\u001b[0m\u001b[0m\n",
      "\u001b[0;32m~/Documents/XAI-Multivariate-Time-Series/feature_extraction/CAM.py\u001b[0m in \u001b[0;36m__call__\u001b[0;34m(self, input, index)\u001b[0m\n\u001b[1;32m     25\u001b[0m             \u001b[0mfeatures\u001b[0m\u001b[0;34m,\u001b[0m \u001b[0moutput\u001b[0m \u001b[0;34m=\u001b[0m \u001b[0mself\u001b[0m\u001b[0;34m.\u001b[0m\u001b[0mextractor\u001b[0m\u001b[0;34m(\u001b[0m\u001b[0minput\u001b[0m\u001b[0;34m.\u001b[0m\u001b[0mcuda\u001b[0m\u001b[0;34m(\u001b[0m\u001b[0;34m)\u001b[0m\u001b[0;34m)\u001b[0m\u001b[0;34m\u001b[0m\u001b[0;34m\u001b[0m\u001b[0m\n\u001b[1;32m     26\u001b[0m         \u001b[0;32melse\u001b[0m\u001b[0;34m:\u001b[0m\u001b[0;34m\u001b[0m\u001b[0;34m\u001b[0m\u001b[0m\n\u001b[0;32m---> 27\u001b[0;31m             \u001b[0mfeatures\u001b[0m\u001b[0;34m,\u001b[0m \u001b[0moutput\u001b[0m \u001b[0;34m=\u001b[0m \u001b[0mself\u001b[0m\u001b[0;34m.\u001b[0m\u001b[0mextractor\u001b[0m\u001b[0;34m(\u001b[0m\u001b[0minput\u001b[0m\u001b[0;34m)\u001b[0m\u001b[0;34m\u001b[0m\u001b[0;34m\u001b[0m\u001b[0m\n\u001b[0m\u001b[1;32m     28\u001b[0m \u001b[0;34m\u001b[0m\u001b[0m\n\u001b[1;32m     29\u001b[0m         \u001b[0;32mif\u001b[0m \u001b[0mindex\u001b[0m \u001b[0;34m==\u001b[0m \u001b[0;32mNone\u001b[0m\u001b[0;34m:\u001b[0m\u001b[0;34m\u001b[0m\u001b[0;34m\u001b[0m\u001b[0m\n",
      "\u001b[0;32m~/Documents/XAI-Multivariate-Time-Series/utils/gradient_extraction.py\u001b[0m in \u001b[0;36m__call__\u001b[0;34m(self, x)\u001b[0m\n\u001b[1;32m     50\u001b[0m                 \u001b[0mtarget_activations\u001b[0m\u001b[0;34m,\u001b[0m \u001b[0mx\u001b[0m \u001b[0;34m=\u001b[0m \u001b[0mself\u001b[0m\u001b[0;34m.\u001b[0m\u001b[0mfeature_extractor\u001b[0m\u001b[0;34m(\u001b[0m\u001b[0mx\u001b[0m\u001b[0;34m)\u001b[0m\u001b[0;34m\u001b[0m\u001b[0;34m\u001b[0m\u001b[0m\n\u001b[1;32m     51\u001b[0m             \u001b[0;32melif\u001b[0m \u001b[0;34m\"avgpool\"\u001b[0m \u001b[0;32min\u001b[0m \u001b[0mname\u001b[0m\u001b[0;34m.\u001b[0m\u001b[0mlower\u001b[0m\u001b[0;34m(\u001b[0m\u001b[0;34m)\u001b[0m\u001b[0;34m:\u001b[0m\u001b[0;34m\u001b[0m\u001b[0;34m\u001b[0m\u001b[0m\n\u001b[0;32m---> 52\u001b[0;31m                 \u001b[0mx\u001b[0m \u001b[0;34m=\u001b[0m \u001b[0mmodule\u001b[0m\u001b[0;34m(\u001b[0m\u001b[0mx\u001b[0m\u001b[0;34m)\u001b[0m\u001b[0;34m\u001b[0m\u001b[0;34m\u001b[0m\u001b[0m\n\u001b[0m\u001b[1;32m     53\u001b[0m                 \u001b[0mx\u001b[0m \u001b[0;34m=\u001b[0m \u001b[0mx\u001b[0m\u001b[0;34m.\u001b[0m\u001b[0mview\u001b[0m\u001b[0;34m(\u001b[0m\u001b[0mx\u001b[0m\u001b[0;34m.\u001b[0m\u001b[0msize\u001b[0m\u001b[0;34m(\u001b[0m\u001b[0;36m0\u001b[0m\u001b[0;34m)\u001b[0m\u001b[0;34m,\u001b[0m\u001b[0;34m-\u001b[0m\u001b[0;36m1\u001b[0m\u001b[0;34m)\u001b[0m\u001b[0;34m\u001b[0m\u001b[0;34m\u001b[0m\u001b[0m\n\u001b[1;32m     54\u001b[0m             \u001b[0;32melse\u001b[0m\u001b[0;34m:\u001b[0m\u001b[0;34m\u001b[0m\u001b[0;34m\u001b[0m\u001b[0m\n",
      "\u001b[0;32m~/anaconda3/envs/XAI/lib/python3.7/site-packages/torch/nn/modules/module.py\u001b[0m in \u001b[0;36m_call_impl\u001b[0;34m(self, *input, **kwargs)\u001b[0m\n\u001b[1;32m    725\u001b[0m             \u001b[0mresult\u001b[0m \u001b[0;34m=\u001b[0m \u001b[0mself\u001b[0m\u001b[0;34m.\u001b[0m\u001b[0m_slow_forward\u001b[0m\u001b[0;34m(\u001b[0m\u001b[0;34m*\u001b[0m\u001b[0minput\u001b[0m\u001b[0;34m,\u001b[0m \u001b[0;34m**\u001b[0m\u001b[0mkwargs\u001b[0m\u001b[0;34m)\u001b[0m\u001b[0;34m\u001b[0m\u001b[0;34m\u001b[0m\u001b[0m\n\u001b[1;32m    726\u001b[0m         \u001b[0;32melse\u001b[0m\u001b[0;34m:\u001b[0m\u001b[0;34m\u001b[0m\u001b[0;34m\u001b[0m\u001b[0m\n\u001b[0;32m--> 727\u001b[0;31m             \u001b[0mresult\u001b[0m \u001b[0;34m=\u001b[0m \u001b[0mself\u001b[0m\u001b[0;34m.\u001b[0m\u001b[0mforward\u001b[0m\u001b[0;34m(\u001b[0m\u001b[0;34m*\u001b[0m\u001b[0minput\u001b[0m\u001b[0;34m,\u001b[0m \u001b[0;34m**\u001b[0m\u001b[0mkwargs\u001b[0m\u001b[0;34m)\u001b[0m\u001b[0;34m\u001b[0m\u001b[0;34m\u001b[0m\u001b[0m\n\u001b[0m\u001b[1;32m    728\u001b[0m         for hook in itertools.chain(\n\u001b[1;32m    729\u001b[0m                 \u001b[0m_global_forward_hooks\u001b[0m\u001b[0;34m.\u001b[0m\u001b[0mvalues\u001b[0m\u001b[0;34m(\u001b[0m\u001b[0;34m)\u001b[0m\u001b[0;34m,\u001b[0m\u001b[0;34m\u001b[0m\u001b[0;34m\u001b[0m\u001b[0m\n",
      "\u001b[0;32m~/anaconda3/envs/XAI/lib/python3.7/site-packages/torch/nn/modules/container.py\u001b[0m in \u001b[0;36mforward\u001b[0;34m(self, input)\u001b[0m\n\u001b[1;32m    115\u001b[0m     \u001b[0;32mdef\u001b[0m \u001b[0mforward\u001b[0m\u001b[0;34m(\u001b[0m\u001b[0mself\u001b[0m\u001b[0;34m,\u001b[0m \u001b[0minput\u001b[0m\u001b[0;34m)\u001b[0m\u001b[0;34m:\u001b[0m\u001b[0;34m\u001b[0m\u001b[0;34m\u001b[0m\u001b[0m\n\u001b[1;32m    116\u001b[0m         \u001b[0;32mfor\u001b[0m \u001b[0mmodule\u001b[0m \u001b[0;32min\u001b[0m \u001b[0mself\u001b[0m\u001b[0;34m:\u001b[0m\u001b[0;34m\u001b[0m\u001b[0;34m\u001b[0m\u001b[0m\n\u001b[0;32m--> 117\u001b[0;31m             \u001b[0minput\u001b[0m \u001b[0;34m=\u001b[0m \u001b[0mmodule\u001b[0m\u001b[0;34m(\u001b[0m\u001b[0minput\u001b[0m\u001b[0;34m)\u001b[0m\u001b[0;34m\u001b[0m\u001b[0;34m\u001b[0m\u001b[0m\n\u001b[0m\u001b[1;32m    118\u001b[0m         \u001b[0;32mreturn\u001b[0m \u001b[0minput\u001b[0m\u001b[0;34m\u001b[0m\u001b[0;34m\u001b[0m\u001b[0m\n\u001b[1;32m    119\u001b[0m \u001b[0;34m\u001b[0m\u001b[0m\n",
      "\u001b[0;32m~/anaconda3/envs/XAI/lib/python3.7/site-packages/torch/nn/modules/module.py\u001b[0m in \u001b[0;36m_call_impl\u001b[0;34m(self, *input, **kwargs)\u001b[0m\n\u001b[1;32m    725\u001b[0m             \u001b[0mresult\u001b[0m \u001b[0;34m=\u001b[0m \u001b[0mself\u001b[0m\u001b[0;34m.\u001b[0m\u001b[0m_slow_forward\u001b[0m\u001b[0;34m(\u001b[0m\u001b[0;34m*\u001b[0m\u001b[0minput\u001b[0m\u001b[0;34m,\u001b[0m \u001b[0;34m**\u001b[0m\u001b[0mkwargs\u001b[0m\u001b[0;34m)\u001b[0m\u001b[0;34m\u001b[0m\u001b[0;34m\u001b[0m\u001b[0m\n\u001b[1;32m    726\u001b[0m         \u001b[0;32melse\u001b[0m\u001b[0;34m:\u001b[0m\u001b[0;34m\u001b[0m\u001b[0;34m\u001b[0m\u001b[0m\n\u001b[0;32m--> 727\u001b[0;31m             \u001b[0mresult\u001b[0m \u001b[0;34m=\u001b[0m \u001b[0mself\u001b[0m\u001b[0;34m.\u001b[0m\u001b[0mforward\u001b[0m\u001b[0;34m(\u001b[0m\u001b[0;34m*\u001b[0m\u001b[0minput\u001b[0m\u001b[0;34m,\u001b[0m \u001b[0;34m**\u001b[0m\u001b[0mkwargs\u001b[0m\u001b[0;34m)\u001b[0m\u001b[0;34m\u001b[0m\u001b[0;34m\u001b[0m\u001b[0m\n\u001b[0m\u001b[1;32m    728\u001b[0m         for hook in itertools.chain(\n\u001b[1;32m    729\u001b[0m                 \u001b[0m_global_forward_hooks\u001b[0m\u001b[0;34m.\u001b[0m\u001b[0mvalues\u001b[0m\u001b[0;34m(\u001b[0m\u001b[0;34m)\u001b[0m\u001b[0;34m,\u001b[0m\u001b[0;34m\u001b[0m\u001b[0;34m\u001b[0m\u001b[0m\n",
      "\u001b[0;32m~/anaconda3/envs/XAI/lib/python3.7/site-packages/torch/nn/modules/pooling.py\u001b[0m in \u001b[0;36mforward\u001b[0;34m(self, input)\u001b[0m\n\u001b[1;32m    519\u001b[0m         return F.avg_pool1d(\n\u001b[1;32m    520\u001b[0m             \u001b[0minput\u001b[0m\u001b[0;34m,\u001b[0m \u001b[0mself\u001b[0m\u001b[0;34m.\u001b[0m\u001b[0mkernel_size\u001b[0m\u001b[0;34m,\u001b[0m \u001b[0mself\u001b[0m\u001b[0;34m.\u001b[0m\u001b[0mstride\u001b[0m\u001b[0;34m,\u001b[0m \u001b[0mself\u001b[0m\u001b[0;34m.\u001b[0m\u001b[0mpadding\u001b[0m\u001b[0;34m,\u001b[0m \u001b[0mself\u001b[0m\u001b[0;34m.\u001b[0m\u001b[0mceil_mode\u001b[0m\u001b[0;34m,\u001b[0m\u001b[0;34m\u001b[0m\u001b[0;34m\u001b[0m\u001b[0m\n\u001b[0;32m--> 521\u001b[0;31m             self.count_include_pad)\n\u001b[0m\u001b[1;32m    522\u001b[0m \u001b[0;34m\u001b[0m\u001b[0m\n\u001b[1;32m    523\u001b[0m \u001b[0;34m\u001b[0m\u001b[0m\n",
      "\u001b[0;31mRuntimeError\u001b[0m: Given input size: (32x1x1). Calculated output size: (32x1x0). Output size is too small"
     ]
    }
   ],
   "source": [
    "feature_maps = CAMFeatureMaps(GradCAM)\n",
    "feature_maps.load(model,model.cnn_layers_1,'relu_12')\n",
    "mask = {}\n",
    "for i in range(len(np.unique(y_test))):\n",
    "    mask[i] = feature_maps.show(X_test[0], i)"
   ]
  },
  {
   "cell_type": "code",
   "execution_count": null,
   "id": "interstate-swimming",
   "metadata": {},
   "outputs": [],
   "source": [
    "net1.cnn_layers_2"
   ]
  },
  {
   "cell_type": "code",
   "execution_count": null,
   "id": "devoted-allah",
   "metadata": {},
   "outputs": [],
   "source": [
    "mask = feature_maps.show(X_test[0], None)"
   ]
  },
  {
   "cell_type": "code",
   "execution_count": null,
   "id": "funny-lodge",
   "metadata": {
    "scrolled": false
   },
   "outputs": [],
   "source": [
    "map_activation_to_input(X_test[0], mask, 1e3)"
   ]
  },
  {
   "cell_type": "code",
   "execution_count": null,
   "id": "lined-roommate",
   "metadata": {},
   "outputs": [],
   "source": [
    "feature_maps = CAMFeatureMaps(GradCAMPlusPlus)\n",
    "feature_maps.load(model,model.cnn_layers, 'relu_3')\n",
    "mask1 = {}\n",
    "for i in range(len(np.unique(y_test))):\n",
    "    mask1[i] = feature_maps.show(X_test[0], i)"
   ]
  },
  {
   "cell_type": "code",
   "execution_count": null,
   "id": "incredible-physiology",
   "metadata": {},
   "outputs": [],
   "source": [
    "mask1 = feature_maps.show(X_test[0], None)"
   ]
  },
  {
   "cell_type": "code",
   "execution_count": null,
   "id": "ideal-communications",
   "metadata": {},
   "outputs": [],
   "source": [
    "map_activation_to_input(X_test[0], mask1, 1)"
   ]
  },
  {
   "cell_type": "code",
   "execution_count": null,
   "id": "radio-centre",
   "metadata": {},
   "outputs": [],
   "source": [
    "len(torch.zeros((4,1,2,3)).squeeze().size())"
   ]
  },
  {
   "cell_type": "code",
   "execution_count": null,
   "id": "useful-bunch",
   "metadata": {},
   "outputs": [],
   "source": []
  }
 ],
 "metadata": {
  "kernelspec": {
   "display_name": "Python 3",
   "language": "python",
   "name": "python3"
  },
  "language_info": {
   "codemirror_mode": {
    "name": "ipython",
    "version": 3
   },
   "file_extension": ".py",
   "mimetype": "text/x-python",
   "name": "python",
   "nbconvert_exporter": "python",
   "pygments_lexer": "ipython3",
   "version": "3.7.10"
  }
 },
 "nbformat": 4,
 "nbformat_minor": 5
}
